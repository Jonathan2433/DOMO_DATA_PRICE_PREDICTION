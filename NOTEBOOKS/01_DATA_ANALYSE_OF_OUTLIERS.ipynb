{
 "cells": [
  {
   "cell_type": "markdown",
   "source": [
    "# IMPORT DES LIBRAIRIES "
   ],
   "metadata": {
    "collapsed": false
   },
   "id": "978d8a924d544431"
  },
  {
   "cell_type": "code",
   "execution_count": 1,
   "id": "initial_id",
   "metadata": {
    "collapsed": true,
    "ExecuteTime": {
     "end_time": "2024-04-19T12:37:02.532181300Z",
     "start_time": "2024-04-19T12:37:02.428312600Z"
    }
   },
   "outputs": [],
   "source": [
    "import pandas as pd\n",
    "import seaborn as sns\n",
    "import matplotlib.pyplot as plt\n",
    "import numpy as np\n",
    "import plotly.express as px"
   ]
  },
  {
   "cell_type": "markdown",
   "source": [
    "# OUVERTURE DU JEU DE DONNEES"
   ],
   "metadata": {
    "collapsed": false
   },
   "id": "35397929e33d8a1e"
  },
  {
   "cell_type": "code",
   "execution_count": 2,
   "outputs": [
    {
     "data": {
      "text/plain": "   IDVentes      Prix        Date  SurfaceTerrain  SurfaceBati  SurfaceCarrez  \\\n0    174617  103950.0  2021-01-06               0           19          19.01   \n1    174618  214380.0  2021-01-05               0           38          38.57   \n2    174619  177000.0  2021-01-08               0           63           0.00   \n3    174620  153000.0  2021-01-08               0           30           0.00   \n4    174621  223170.0  2021-01-08               0           61           0.00   \n\n   NombreLots  NombrePiecesPrincipales  CodePostal TypeLocalName  \\\n0           1                        1       33600   Appartement   \n1           2                        1       33000   Appartement   \n2           3                        1       33320   Appartement   \n3           2                        1       33800   Appartement   \n4           3                        1       33127   Appartement   \n\n                  slice  quarter  Year  Month  AvecTerrain SurfaceBatiCat  \n0  [100000.0, 150000.0)        1  2021      1        False  (0.999, 35.0]  \n1  [200000.0, 250000.0)        1  2021      1        False   (35.0, 47.0]  \n2  [150000.0, 200000.0)        1  2021      1        False   (60.0, 70.0]  \n3  [150000.0, 200000.0)        1  2021      1        False  (0.999, 35.0]  \n4  [200000.0, 250000.0)        1  2021      1        False   (60.0, 70.0]  ",
      "text/html": "<div>\n<style scoped>\n    .dataframe tbody tr th:only-of-type {\n        vertical-align: middle;\n    }\n\n    .dataframe tbody tr th {\n        vertical-align: top;\n    }\n\n    .dataframe thead th {\n        text-align: right;\n    }\n</style>\n<table border=\"1\" class=\"dataframe\">\n  <thead>\n    <tr style=\"text-align: right;\">\n      <th></th>\n      <th>IDVentes</th>\n      <th>Prix</th>\n      <th>Date</th>\n      <th>SurfaceTerrain</th>\n      <th>SurfaceBati</th>\n      <th>SurfaceCarrez</th>\n      <th>NombreLots</th>\n      <th>NombrePiecesPrincipales</th>\n      <th>CodePostal</th>\n      <th>TypeLocalName</th>\n      <th>slice</th>\n      <th>quarter</th>\n      <th>Year</th>\n      <th>Month</th>\n      <th>AvecTerrain</th>\n      <th>SurfaceBatiCat</th>\n    </tr>\n  </thead>\n  <tbody>\n    <tr>\n      <th>0</th>\n      <td>174617</td>\n      <td>103950.0</td>\n      <td>2021-01-06</td>\n      <td>0</td>\n      <td>19</td>\n      <td>19.01</td>\n      <td>1</td>\n      <td>1</td>\n      <td>33600</td>\n      <td>Appartement</td>\n      <td>[100000.0, 150000.0)</td>\n      <td>1</td>\n      <td>2021</td>\n      <td>1</td>\n      <td>False</td>\n      <td>(0.999, 35.0]</td>\n    </tr>\n    <tr>\n      <th>1</th>\n      <td>174618</td>\n      <td>214380.0</td>\n      <td>2021-01-05</td>\n      <td>0</td>\n      <td>38</td>\n      <td>38.57</td>\n      <td>2</td>\n      <td>1</td>\n      <td>33000</td>\n      <td>Appartement</td>\n      <td>[200000.0, 250000.0)</td>\n      <td>1</td>\n      <td>2021</td>\n      <td>1</td>\n      <td>False</td>\n      <td>(35.0, 47.0]</td>\n    </tr>\n    <tr>\n      <th>2</th>\n      <td>174619</td>\n      <td>177000.0</td>\n      <td>2021-01-08</td>\n      <td>0</td>\n      <td>63</td>\n      <td>0.00</td>\n      <td>3</td>\n      <td>1</td>\n      <td>33320</td>\n      <td>Appartement</td>\n      <td>[150000.0, 200000.0)</td>\n      <td>1</td>\n      <td>2021</td>\n      <td>1</td>\n      <td>False</td>\n      <td>(60.0, 70.0]</td>\n    </tr>\n    <tr>\n      <th>3</th>\n      <td>174620</td>\n      <td>153000.0</td>\n      <td>2021-01-08</td>\n      <td>0</td>\n      <td>30</td>\n      <td>0.00</td>\n      <td>2</td>\n      <td>1</td>\n      <td>33800</td>\n      <td>Appartement</td>\n      <td>[150000.0, 200000.0)</td>\n      <td>1</td>\n      <td>2021</td>\n      <td>1</td>\n      <td>False</td>\n      <td>(0.999, 35.0]</td>\n    </tr>\n    <tr>\n      <th>4</th>\n      <td>174621</td>\n      <td>223170.0</td>\n      <td>2021-01-08</td>\n      <td>0</td>\n      <td>61</td>\n      <td>0.00</td>\n      <td>3</td>\n      <td>1</td>\n      <td>33127</td>\n      <td>Appartement</td>\n      <td>[200000.0, 250000.0)</td>\n      <td>1</td>\n      <td>2021</td>\n      <td>1</td>\n      <td>False</td>\n      <td>(60.0, 70.0]</td>\n    </tr>\n  </tbody>\n</table>\n</div>"
     },
     "execution_count": 2,
     "metadata": {},
     "output_type": "execute_result"
    }
   ],
   "source": [
    "df = pd.read_csv('../DATA/OUT/new_dataset_with_data_prepocessing.csv')\n",
    "df.head()"
   ],
   "metadata": {
    "collapsed": false,
    "ExecuteTime": {
     "end_time": "2024-04-19T12:37:03.169815100Z",
     "start_time": "2024-04-19T12:37:02.932575900Z"
    }
   },
   "id": "abec96124d763f13"
  },
  {
   "cell_type": "markdown",
   "source": [
    "# CREATION D'UN ID PAR INDIVIDU"
   ],
   "metadata": {
    "collapsed": false
   },
   "id": "2731868b6eefdb5a"
  },
  {
   "cell_type": "code",
   "execution_count": 3,
   "outputs": [
    {
     "data": {
      "text/plain": "   ID  IDVentes      Prix        Date  SurfaceTerrain  SurfaceBati  \\\n0   1    174617  103950.0  2021-01-06               0           19   \n1   2    174618  214380.0  2021-01-05               0           38   \n2   3    174619  177000.0  2021-01-08               0           63   \n3   4    174620  153000.0  2021-01-08               0           30   \n4   5    174621  223170.0  2021-01-08               0           61   \n\n   SurfaceCarrez  NombreLots  NombrePiecesPrincipales  CodePostal  \\\n0          19.01           1                        1       33600   \n1          38.57           2                        1       33000   \n2           0.00           3                        1       33320   \n3           0.00           2                        1       33800   \n4           0.00           3                        1       33127   \n\n  TypeLocalName                 slice  quarter  Year  Month  AvecTerrain  \\\n0   Appartement  [100000.0, 150000.0)        1  2021      1        False   \n1   Appartement  [200000.0, 250000.0)        1  2021      1        False   \n2   Appartement  [150000.0, 200000.0)        1  2021      1        False   \n3   Appartement  [150000.0, 200000.0)        1  2021      1        False   \n4   Appartement  [200000.0, 250000.0)        1  2021      1        False   \n\n  SurfaceBatiCat  \n0  (0.999, 35.0]  \n1   (35.0, 47.0]  \n2   (60.0, 70.0]  \n3  (0.999, 35.0]  \n4   (60.0, 70.0]  ",
      "text/html": "<div>\n<style scoped>\n    .dataframe tbody tr th:only-of-type {\n        vertical-align: middle;\n    }\n\n    .dataframe tbody tr th {\n        vertical-align: top;\n    }\n\n    .dataframe thead th {\n        text-align: right;\n    }\n</style>\n<table border=\"1\" class=\"dataframe\">\n  <thead>\n    <tr style=\"text-align: right;\">\n      <th></th>\n      <th>ID</th>\n      <th>IDVentes</th>\n      <th>Prix</th>\n      <th>Date</th>\n      <th>SurfaceTerrain</th>\n      <th>SurfaceBati</th>\n      <th>SurfaceCarrez</th>\n      <th>NombreLots</th>\n      <th>NombrePiecesPrincipales</th>\n      <th>CodePostal</th>\n      <th>TypeLocalName</th>\n      <th>slice</th>\n      <th>quarter</th>\n      <th>Year</th>\n      <th>Month</th>\n      <th>AvecTerrain</th>\n      <th>SurfaceBatiCat</th>\n    </tr>\n  </thead>\n  <tbody>\n    <tr>\n      <th>0</th>\n      <td>1</td>\n      <td>174617</td>\n      <td>103950.0</td>\n      <td>2021-01-06</td>\n      <td>0</td>\n      <td>19</td>\n      <td>19.01</td>\n      <td>1</td>\n      <td>1</td>\n      <td>33600</td>\n      <td>Appartement</td>\n      <td>[100000.0, 150000.0)</td>\n      <td>1</td>\n      <td>2021</td>\n      <td>1</td>\n      <td>False</td>\n      <td>(0.999, 35.0]</td>\n    </tr>\n    <tr>\n      <th>1</th>\n      <td>2</td>\n      <td>174618</td>\n      <td>214380.0</td>\n      <td>2021-01-05</td>\n      <td>0</td>\n      <td>38</td>\n      <td>38.57</td>\n      <td>2</td>\n      <td>1</td>\n      <td>33000</td>\n      <td>Appartement</td>\n      <td>[200000.0, 250000.0)</td>\n      <td>1</td>\n      <td>2021</td>\n      <td>1</td>\n      <td>False</td>\n      <td>(35.0, 47.0]</td>\n    </tr>\n    <tr>\n      <th>2</th>\n      <td>3</td>\n      <td>174619</td>\n      <td>177000.0</td>\n      <td>2021-01-08</td>\n      <td>0</td>\n      <td>63</td>\n      <td>0.00</td>\n      <td>3</td>\n      <td>1</td>\n      <td>33320</td>\n      <td>Appartement</td>\n      <td>[150000.0, 200000.0)</td>\n      <td>1</td>\n      <td>2021</td>\n      <td>1</td>\n      <td>False</td>\n      <td>(60.0, 70.0]</td>\n    </tr>\n    <tr>\n      <th>3</th>\n      <td>4</td>\n      <td>174620</td>\n      <td>153000.0</td>\n      <td>2021-01-08</td>\n      <td>0</td>\n      <td>30</td>\n      <td>0.00</td>\n      <td>2</td>\n      <td>1</td>\n      <td>33800</td>\n      <td>Appartement</td>\n      <td>[150000.0, 200000.0)</td>\n      <td>1</td>\n      <td>2021</td>\n      <td>1</td>\n      <td>False</td>\n      <td>(0.999, 35.0]</td>\n    </tr>\n    <tr>\n      <th>4</th>\n      <td>5</td>\n      <td>174621</td>\n      <td>223170.0</td>\n      <td>2021-01-08</td>\n      <td>0</td>\n      <td>61</td>\n      <td>0.00</td>\n      <td>3</td>\n      <td>1</td>\n      <td>33127</td>\n      <td>Appartement</td>\n      <td>[200000.0, 250000.0)</td>\n      <td>1</td>\n      <td>2021</td>\n      <td>1</td>\n      <td>False</td>\n      <td>(60.0, 70.0]</td>\n    </tr>\n  </tbody>\n</table>\n</div>"
     },
     "execution_count": 3,
     "metadata": {},
     "output_type": "execute_result"
    }
   ],
   "source": [
    "# Ajout d'une colonne ID qui sera un identifiant unique pour chaque ligne (commençant à 1)\n",
    "df['ID'] = range(1, len(df) + 1)\n",
    "\n",
    "# Vérification de l'ajout de la colonne ID\n",
    "df[['ID'] + df.columns.tolist()[:-1]].head()"
   ],
   "metadata": {
    "collapsed": false,
    "ExecuteTime": {
     "end_time": "2024-04-19T12:37:09.766806Z",
     "start_time": "2024-04-19T12:37:09.716886800Z"
    }
   },
   "id": "3068f3ef7b4f5366"
  },
  {
   "cell_type": "markdown",
   "source": [
    "# DEFINITION DES OUTLIERS POUR LES SURFACES DE TERRAINS PAR RAPPORT A LEUR PRIX\n",
    "\n",
    "### Calcul D’Outliers :\n",
    "X < q1 - 1.5 x iqr X > q3 + 1.5 x iqr"
   ],
   "metadata": {
    "collapsed": false
   },
   "id": "1fd16fae62b6c43c"
  },
  {
   "cell_type": "markdown",
   "source": [
    "# CALCUL DU PRIX TERRAIN AU M²"
   ],
   "metadata": {
    "collapsed": false
   },
   "id": "ad3776c293118bd5"
  },
  {
   "cell_type": "code",
   "execution_count": 4,
   "outputs": [
    {
     "name": "stderr",
     "output_type": "stream",
     "text": [
      "C:\\Users\\jonat\\AppData\\Local\\Temp\\ipykernel_33168\\3682938769.py:5: SettingWithCopyWarning: \n",
      "A value is trying to be set on a copy of a slice from a DataFrame.\n",
      "Try using .loc[row_indexer,col_indexer] = value instead\n",
      "\n",
      "See the caveats in the documentation: https://pandas.pydata.org/pandas-docs/stable/user_guide/indexing.html#returning-a-view-versus-a-copy\n",
      "  bien_avec_terrain['PrixTerrainM2'] = bien_avec_terrain['Prix'] / bien_avec_terrain['SurfaceTerrain']\n",
      "C:\\Users\\jonat\\AppData\\Local\\Temp\\ipykernel_33168\\3682938769.py:8: SettingWithCopyWarning: \n",
      "A value is trying to be set on a copy of a slice from a DataFrame\n",
      "\n",
      "See the caveats in the documentation: https://pandas.pydata.org/pandas-docs/stable/user_guide/indexing.html#returning-a-view-versus-a-copy\n",
      "  bien_avec_terrain['PrixTerrainM2'].replace(np.inf, 0, inplace=True)\n"
     ]
    }
   ],
   "source": [
    "# ISOLER LES BIENS AVEC TERRAINS\n",
    "bien_avec_terrain = df.loc[(df['SurfaceTerrain'] > 0)]\n",
    "\n",
    "df['PrixTerrainM2'] = df['Prix'] / df['SurfaceTerrain']\n",
    "bien_avec_terrain['PrixTerrainM2'] = bien_avec_terrain['Prix'] / bien_avec_terrain['SurfaceTerrain']\n",
    "# Remplacez les valeurs infinies par zéro.\n",
    "df['PrixTerrainM2'].replace(np.inf, 0, inplace=True)\n",
    "bien_avec_terrain['PrixTerrainM2'].replace(np.inf, 0, inplace=True)"
   ],
   "metadata": {
    "collapsed": false,
    "ExecuteTime": {
     "end_time": "2024-04-19T12:37:28.408842700Z",
     "start_time": "2024-04-19T12:37:28.337864100Z"
    }
   },
   "id": "bb7703247b46099c"
  },
  {
   "cell_type": "markdown",
   "source": [
    "# CALCULS DES QUARTILES POUR NOS OUTLIERS"
   ],
   "metadata": {
    "collapsed": false
   },
   "id": "e6c25cd9fc93d608"
  },
  {
   "cell_type": "code",
   "execution_count": 5,
   "outputs": [
    {
     "name": "stdout",
     "output_type": "stream",
     "text": [
      "q1 = 299.7525479616307, q3 = 1302.1973039215686, IQR = 1002.444755959938\n"
     ]
    }
   ],
   "source": [
    "# CALCUL DE NOTRE PREMIER QUARTILE\n",
    "q1_prix_terrain = bien_avec_terrain['PrixTerrainM2'].quantile([.25])\n",
    "q1_prix_terrain = q1_prix_terrain[0.25]\n",
    "q3_prix_terrain = bien_avec_terrain['PrixTerrainM2'].quantile([.75])\n",
    "q3_prix_terrain = q3_prix_terrain[0.75]\n",
    "\n",
    "# CALCUL DE NOTRE ECART INTER QUARTILES\n",
    "iqr_prix_terrain = q3_prix_terrain - q1_prix_terrain\n",
    "\n",
    "print(f\"q1 = {q1_prix_terrain}, q3 = {q3_prix_terrain}, IQR = {iqr_prix_terrain}\")"
   ],
   "metadata": {
    "collapsed": false,
    "ExecuteTime": {
     "end_time": "2024-04-19T12:37:34.388538900Z",
     "start_time": "2024-04-19T12:37:34.364941100Z"
    }
   },
   "id": "ad6eb24d99ddf49e"
  },
  {
   "cell_type": "markdown",
   "source": [
    "# CALCUL DES VALEURS LIMITE OUTLIERS"
   ],
   "metadata": {
    "collapsed": false
   },
   "id": "31d759b484688c66"
  },
  {
   "cell_type": "code",
   "execution_count": 6,
   "outputs": [
    {
     "name": "stdout",
     "output_type": "stream",
     "text": [
      "Outliers Inférieur = -1203.9145859782764\n",
      "Outliers Supérieur = 2805.8644378614754\n"
     ]
    }
   ],
   "source": [
    "outliers_prix_terrain_m2_inferieur = q1_prix_terrain - (1.5 * iqr_prix_terrain)\n",
    "outliers_prix_terrain_m2_superieur = q3_prix_terrain + (1.5 * iqr_prix_terrain)\n",
    "\n",
    "print(f'Outliers Inférieur = {outliers_prix_terrain_m2_inferieur}')\n",
    "print(f'Outliers Supérieur = {outliers_prix_terrain_m2_superieur}')"
   ],
   "metadata": {
    "collapsed": false,
    "ExecuteTime": {
     "end_time": "2024-04-19T12:37:37.378553400Z",
     "start_time": "2024-04-19T12:37:37.366527300Z"
    }
   },
   "id": "2f280b2e4ca16455"
  },
  {
   "cell_type": "markdown",
   "source": [
    "# COMPATAGE DES OUTLIERS"
   ],
   "metadata": {
    "collapsed": false
   },
   "id": "7cf6b765dbc45fd2"
  },
  {
   "cell_type": "code",
   "execution_count": 7,
   "outputs": [
    {
     "name": "stdout",
     "output_type": "stream",
     "text": [
      "Nous aurions donc 13041 outliers.\n"
     ]
    }
   ],
   "source": [
    "nb_outliers_surface_terrain = df.loc[(df['PrixTerrainM2'] > outliers_prix_terrain_m2_superieur) | (df['PrixTerrainM2'] < outliers_prix_terrain_m2_inferieur)].shape\n",
    "print(f'Nous aurions donc {nb_outliers_surface_terrain[0]} outliers.')"
   ],
   "metadata": {
    "collapsed": false,
    "ExecuteTime": {
     "end_time": "2024-04-19T12:37:40.820219Z",
     "start_time": "2024-04-19T12:37:40.772241800Z"
    }
   },
   "id": "c0284f473298b695"
  },
  {
   "cell_type": "markdown",
   "source": [
    "# STOCKAGE DES OUTLIERS DANS UN NOUVEAU DATAFRAME"
   ],
   "metadata": {
    "collapsed": false
   },
   "id": "d55012d983a986f1"
  },
  {
   "cell_type": "code",
   "execution_count": 8,
   "outputs": [],
   "source": [
    "outliers_surface_terrain = df.loc[(df['PrixTerrainM2'] > outliers_prix_terrain_m2_superieur) | (df['PrixTerrainM2'] < outliers_prix_terrain_m2_inferieur)]"
   ],
   "metadata": {
    "collapsed": false,
    "ExecuteTime": {
     "end_time": "2024-04-19T12:37:43.284697800Z",
     "start_time": "2024-04-19T12:37:43.257517600Z"
    }
   },
   "id": "3a2271cc5086d37c"
  },
  {
   "cell_type": "markdown",
   "source": [
    "# DEFINITION DES OUTLIERS POUR LES SURFACES BATI PAR RAPPORT A LEUR PRIX\n",
    "# CALCUL DU PRIX BATI AU M²"
   ],
   "metadata": {
    "collapsed": false
   },
   "id": "1b4f967cadc367b6"
  },
  {
   "cell_type": "code",
   "execution_count": 9,
   "outputs": [],
   "source": [
    "df['PrixBatiM2'] = df['Prix'] / df['SurfaceBati']"
   ],
   "metadata": {
    "collapsed": false,
    "ExecuteTime": {
     "end_time": "2024-04-19T12:37:54.292024800Z",
     "start_time": "2024-04-19T12:37:54.262550200Z"
    }
   },
   "id": "8b5741a292b00c4"
  },
  {
   "cell_type": "markdown",
   "source": [
    "# CALCULS DES QUARTILES POUR NOS OUTLIERS"
   ],
   "metadata": {
    "collapsed": false
   },
   "id": "34290966865e77e7"
  },
  {
   "cell_type": "code",
   "execution_count": 10,
   "outputs": [
    {
     "name": "stdout",
     "output_type": "stream",
     "text": [
      "q1 = 2335.770676691729, q3 = 5000.0, IQR = 2664.229323308271\n"
     ]
    }
   ],
   "source": [
    "# CALCUL DE NOTRE PREMIER QUARTILE\n",
    "q1_prix_bati = df['PrixBatiM2'].quantile([.25])\n",
    "q1_prix_bati = q1_prix_bati[0.25]\n",
    "q3_prix_bati = df['PrixBatiM2'].quantile([.75])\n",
    "q3_prix_bati = q3_prix_bati[0.75]\n",
    "\n",
    "# CALCUL DE NOTRE ECART INTER QUARTILES\n",
    "iqr_prix_bati = q3_prix_bati - q1_prix_bati\n",
    "\n",
    "print(f\"q1 = {q1_prix_bati}, q3 = {q3_prix_bati}, IQR = {iqr_prix_bati}\")"
   ],
   "metadata": {
    "collapsed": false,
    "ExecuteTime": {
     "end_time": "2024-04-19T12:37:56.083596Z",
     "start_time": "2024-04-19T12:37:56.058825300Z"
    }
   },
   "id": "b8b3d01224d249ef"
  },
  {
   "cell_type": "markdown",
   "source": [
    "# CALCUL DES VALEURS LIMITE OUTLIERS"
   ],
   "metadata": {
    "collapsed": false
   },
   "id": "2bb9580e127c918a"
  },
  {
   "cell_type": "code",
   "execution_count": 11,
   "outputs": [
    {
     "name": "stdout",
     "output_type": "stream",
     "text": [
      "Outliers Inférieur = -1660.5733082706774\n",
      "Outliers Supérieur = 8996.343984962406\n"
     ]
    }
   ],
   "source": [
    "outliers_prix_bati_m2_inferieur = q1_prix_bati - (1.5 * iqr_prix_bati)\n",
    "outliers_prix_bati_m2_superieur = q3_prix_bati + (1.5 * iqr_prix_bati)\n",
    "\n",
    "print(f'Outliers Inférieur = {outliers_prix_bati_m2_inferieur}')\n",
    "print(f'Outliers Supérieur = {outliers_prix_bati_m2_superieur}')"
   ],
   "metadata": {
    "collapsed": false,
    "ExecuteTime": {
     "end_time": "2024-04-19T12:37:58.861232700Z",
     "start_time": "2024-04-19T12:37:58.840107600Z"
    }
   },
   "id": "f9911da870170814"
  },
  {
   "cell_type": "markdown",
   "source": [
    "# COMPATAGE DES OUTLIERS"
   ],
   "metadata": {
    "collapsed": false
   },
   "id": "524139a8ad22c959"
  },
  {
   "cell_type": "code",
   "execution_count": 12,
   "outputs": [
    {
     "name": "stdout",
     "output_type": "stream",
     "text": [
      "Nous aurions donc 17989 outliers.\n"
     ]
    }
   ],
   "source": [
    "nb_outliers_surface_bati = df.loc[(df['PrixBatiM2'] > outliers_prix_bati_m2_superieur) | (df['PrixBatiM2'] < outliers_prix_bati_m2_inferieur)].shape\n",
    "print(f'Nous aurions donc {nb_outliers_surface_bati[0]} outliers.')"
   ],
   "metadata": {
    "collapsed": false,
    "ExecuteTime": {
     "end_time": "2024-04-19T12:38:13.612099800Z",
     "start_time": "2024-04-19T12:38:13.598071Z"
    }
   },
   "id": "4b0ce7a99bcc09e2"
  },
  {
   "cell_type": "markdown",
   "source": [
    "# STOCKAGE DES OUTLIERS DANS UN NOUVEAU DATAFRAME"
   ],
   "metadata": {
    "collapsed": false
   },
   "id": "bd340543e590c9cd"
  },
  {
   "cell_type": "code",
   "execution_count": 13,
   "outputs": [],
   "source": [
    "outliers_surface_bati = df.loc[(df['PrixBatiM2'] > outliers_prix_bati_m2_superieur) | (df['PrixBatiM2'] < outliers_prix_bati_m2_inferieur)]"
   ],
   "metadata": {
    "collapsed": false,
    "ExecuteTime": {
     "end_time": "2024-04-19T12:38:15.818527900Z",
     "start_time": "2024-04-19T12:38:15.791072700Z"
    }
   },
   "id": "e741371153da35e5"
  },
  {
   "cell_type": "markdown",
   "source": [
    "# DEFINITION DES OUTLIERS POUR LES SURFACES CARREZ PAR RAPPORT A LEUR PRIX\n",
    "# CALCUL DU PRIX CARREZ AU M²"
   ],
   "metadata": {
    "collapsed": false
   },
   "id": "82234bde843f6d57"
  },
  {
   "cell_type": "code",
   "execution_count": 14,
   "outputs": [
    {
     "name": "stderr",
     "output_type": "stream",
     "text": [
      "C:\\Users\\jonat\\AppData\\Local\\Temp\\ipykernel_33168\\3278027763.py:5: SettingWithCopyWarning: \n",
      "A value is trying to be set on a copy of a slice from a DataFrame.\n",
      "Try using .loc[row_indexer,col_indexer] = value instead\n",
      "\n",
      "See the caveats in the documentation: https://pandas.pydata.org/pandas-docs/stable/user_guide/indexing.html#returning-a-view-versus-a-copy\n",
      "  bien_avec_carrez['PrixCarrezM2'] = bien_avec_carrez['Prix'] / bien_avec_carrez['SurfaceCarrez']\n",
      "C:\\Users\\jonat\\AppData\\Local\\Temp\\ipykernel_33168\\3278027763.py:8: SettingWithCopyWarning: \n",
      "A value is trying to be set on a copy of a slice from a DataFrame\n",
      "\n",
      "See the caveats in the documentation: https://pandas.pydata.org/pandas-docs/stable/user_guide/indexing.html#returning-a-view-versus-a-copy\n",
      "  bien_avec_carrez['PrixCarrezM2'].replace(np.inf, 0, inplace=True)\n"
     ]
    }
   ],
   "source": [
    "# ISOLER LES BIENS AVEC UNE SURFACE CARREZ\n",
    "bien_avec_carrez = df.loc[(df['SurfaceCarrez'] > 0)]\n",
    "\n",
    "df['PrixCarrezM2'] = df['Prix'] / df['SurfaceCarrez']\n",
    "bien_avec_carrez['PrixCarrezM2'] = bien_avec_carrez['Prix'] / bien_avec_carrez['SurfaceCarrez']\n",
    "# Remplacez les valeurs infinies par zéro.\n",
    "df['PrixCarrezM2'].replace(np.inf, 0, inplace=True)\n",
    "bien_avec_carrez['PrixCarrezM2'].replace(np.inf, 0, inplace=True)"
   ],
   "metadata": {
    "collapsed": false,
    "ExecuteTime": {
     "end_time": "2024-04-19T12:38:57.742185Z",
     "start_time": "2024-04-19T12:38:57.673581200Z"
    }
   },
   "id": "af12dbb7fe6c9f00"
  },
  {
   "cell_type": "markdown",
   "source": [
    "# CALCULS DES QUARTILES POUR NOS OUTLIERS"
   ],
   "metadata": {
    "collapsed": false
   },
   "id": "f07456c9551e1a6a"
  },
  {
   "cell_type": "code",
   "execution_count": 15,
   "outputs": [
    {
     "name": "stdout",
     "output_type": "stream",
     "text": [
      "q1 = 2829.9893192261097, q3 = 4811.123744407223, IQR = 1981.1344251811133\n"
     ]
    }
   ],
   "source": [
    "# CALCUL DE NOTRE PREMIER QUARTILE\n",
    "q1_prix_carrez = bien_avec_carrez['PrixCarrezM2'].quantile([.25])\n",
    "q1_prix_carrez = q1_prix_carrez[0.25]\n",
    "q3_prix_carrez = bien_avec_carrez['PrixCarrezM2'].quantile([.75])\n",
    "q3_prix_carrez = q3_prix_carrez[0.75]\n",
    "\n",
    "# CALCUL DE NOTRE ECART INTER QUARTILES\n",
    "iqr_prix_carrez = q3_prix_carrez - q1_prix_carrez\n",
    "\n",
    "print(f\"q1 = {q1_prix_carrez}, q3 = {q3_prix_carrez}, IQR = {iqr_prix_carrez}\")"
   ],
   "metadata": {
    "collapsed": false,
    "ExecuteTime": {
     "end_time": "2024-04-19T12:39:00.855621900Z",
     "start_time": "2024-04-19T12:39:00.786833600Z"
    }
   },
   "id": "6fec03ef00454da6"
  },
  {
   "cell_type": "markdown",
   "source": [
    "# CALCUL DES VALEURS LIMITE OUTLIERS"
   ],
   "metadata": {
    "collapsed": false
   },
   "id": "ab86ed9a8138d3f9"
  },
  {
   "cell_type": "code",
   "execution_count": 16,
   "outputs": [
    {
     "name": "stdout",
     "output_type": "stream",
     "text": [
      "Outliers Inférieur = -141.71231854556027\n",
      "Outliers Supérieur = 7782.825382178893\n"
     ]
    }
   ],
   "source": [
    "outliers_prix_carrez_m2_inferieur = q1_prix_carrez - (1.5 * iqr_prix_carrez)\n",
    "outliers_prix_carrez_m2_superieur = q3_prix_carrez + (1.5 * iqr_prix_carrez)\n",
    "\n",
    "print(f'Outliers Inférieur = {outliers_prix_carrez_m2_inferieur}')\n",
    "print(f'Outliers Supérieur = {outliers_prix_carrez_m2_superieur}')"
   ],
   "metadata": {
    "collapsed": false,
    "ExecuteTime": {
     "end_time": "2024-04-19T12:39:02.172906100Z",
     "start_time": "2024-04-19T12:39:02.159783600Z"
    }
   },
   "id": "acfe852ebb70952a"
  },
  {
   "cell_type": "markdown",
   "source": [
    "# COMPATAGE DES OUTLIERS"
   ],
   "metadata": {
    "collapsed": false
   },
   "id": "9cf445a6be3eb6d5"
  },
  {
   "cell_type": "code",
   "execution_count": 17,
   "outputs": [
    {
     "name": "stdout",
     "output_type": "stream",
     "text": [
      "Nous aurions donc 1379 outliers.\n"
     ]
    }
   ],
   "source": [
    "nb_outliers_surface_carrez = df.loc[(df['PrixCarrezM2'] > outliers_prix_carrez_m2_superieur) | (df['PrixCarrezM2'] < outliers_prix_carrez_m2_inferieur)].shape\n",
    "print(f'Nous aurions donc {nb_outliers_surface_carrez[0]} outliers.')"
   ],
   "metadata": {
    "collapsed": false,
    "ExecuteTime": {
     "end_time": "2024-04-19T12:39:04.344616700Z",
     "start_time": "2024-04-19T12:39:04.312718400Z"
    }
   },
   "id": "126705b6b5cbfa38"
  },
  {
   "cell_type": "markdown",
   "source": [
    "# STOCKAGE DES OUTLIERS DANS UN NOUVEAU DATAFRAME"
   ],
   "metadata": {
    "collapsed": false
   },
   "id": "52dab9a792247c95"
  },
  {
   "cell_type": "code",
   "execution_count": 18,
   "outputs": [],
   "source": [
    "outliers_surface_carrez = df.loc[(df['PrixCarrezM2'] > outliers_prix_carrez_m2_superieur) | (df['PrixCarrezM2'] < outliers_prix_carrez_m2_inferieur)]"
   ],
   "metadata": {
    "collapsed": false,
    "ExecuteTime": {
     "end_time": "2024-04-19T12:39:06.303975800Z",
     "start_time": "2024-04-19T12:39:06.291131200Z"
    }
   },
   "id": "e6a66a20487d1e90"
  },
  {
   "cell_type": "markdown",
   "source": [
    "# COMPATEGE DU TOTAL D'OUTLIERS DEPUIS LE DEBUT (DOUBLONS INCLUS)"
   ],
   "metadata": {
    "collapsed": false
   },
   "id": "61e3b75c6d078f2f"
  },
  {
   "cell_type": "code",
   "execution_count": 19,
   "outputs": [
    {
     "data": {
      "text/plain": "32409"
     },
     "execution_count": 19,
     "metadata": {},
     "output_type": "execute_result"
    }
   ],
   "source": [
    "nb_outliers_surface_terrain[0] + nb_outliers_surface_bati[0] + nb_outliers_surface_carrez[0]"
   ],
   "metadata": {
    "collapsed": false,
    "ExecuteTime": {
     "end_time": "2024-04-19T12:39:09.602807300Z",
     "start_time": "2024-04-19T12:39:09.582784Z"
    }
   },
   "id": "70b7cba541f4d7c5"
  },
  {
   "cell_type": "markdown",
   "source": [
    "# CREATION D'UN DATAFRAME HORS OUTLIERS ET DOUBLONS D'OUTLIERS"
   ],
   "metadata": {
    "collapsed": false
   },
   "id": "1664ceedd6110e71"
  },
  {
   "cell_type": "code",
   "execution_count": 20,
   "outputs": [],
   "source": [
    "# Concaténation des ID des outliers\n",
    "ids_outliers = pd.concat([outliers_surface_bati['ID'], outliers_surface_terrain['ID'], outliers_surface_carrez['ID']])\n",
    "\n",
    "# Suppression des duplicatas\n",
    "ids_outliers = ids_outliers.drop_duplicates()\n",
    "\n",
    "# Filtrage de df pour exclure les outliers\n",
    "df_clean = df[~df['ID'].isin(ids_outliers)]"
   ],
   "metadata": {
    "collapsed": false,
    "ExecuteTime": {
     "end_time": "2024-04-19T12:39:13.296659200Z",
     "start_time": "2024-04-19T12:39:13.260248700Z"
    }
   },
   "id": "c4e0617498083fb9"
  },
  {
   "cell_type": "markdown",
   "source": [
    "# CREATION D'UN CSV DEPUIS CE DATAFRAMES"
   ],
   "metadata": {
    "collapsed": false
   },
   "id": "806b41238b64eec7"
  },
  {
   "cell_type": "code",
   "execution_count": 21,
   "outputs": [],
   "source": [
    "df_clean.to_csv('../DATA/OUT/new_dataset_hors_outliers_surfaces.csv', index=False)"
   ],
   "metadata": {
    "collapsed": false,
    "ExecuteTime": {
     "end_time": "2024-04-19T12:39:20.057828900Z",
     "start_time": "2024-04-19T12:39:19.154653800Z"
    }
   },
   "id": "a082b0c767fa915e"
  },
  {
   "cell_type": "markdown",
   "source": [
    "# DEFINITION DES OUTLIERS POUR LE NOMBRE DE PIECES PRINCIPALES\n",
    "\n",
    "# CALCULS DES QUARTILES POUR NOS OUTLIERS"
   ],
   "metadata": {
    "collapsed": false
   },
   "id": "bd7fe64230ab9886"
  },
  {
   "cell_type": "code",
   "execution_count": 22,
   "outputs": [
    {
     "name": "stdout",
     "output_type": "stream",
     "text": [
      "q1 = 0.0, q3 = 1.0, IQR = 1.0\n"
     ]
    }
   ],
   "source": [
    "# CALCUL DE NOTRE PREMIER QUARTILE\n",
    "q1_nb_piece = df['NombrePiecesPrincipales'].quantile([.25])\n",
    "q1_nb_piece = q1_nb_piece[0.25]\n",
    "q3_nb_piece = df['NombrePiecesPrincipales'].quantile([.75])\n",
    "q3_nb_piece = q3_nb_piece[0.75]\n",
    "\n",
    "# CALCUL DE NOTRE ECART INTER QUARTILES\n",
    "iqr_nb_piece = q3_nb_piece - q1_nb_piece\n",
    "\n",
    "print(f\"q1 = {q1_nb_piece}, q3 = {q3_nb_piece}, IQR = {iqr_nb_piece}\")"
   ],
   "metadata": {
    "collapsed": false,
    "ExecuteTime": {
     "end_time": "2024-04-19T12:39:27.477809700Z",
     "start_time": "2024-04-19T12:39:27.432543500Z"
    }
   },
   "id": "9466068d7b874c08"
  },
  {
   "cell_type": "markdown",
   "source": [
    "# CALCUL DES VALEURS LIMITE OUTLIERS"
   ],
   "metadata": {
    "collapsed": false
   },
   "id": "23e117a6f4eadf19"
  },
  {
   "cell_type": "code",
   "execution_count": 23,
   "outputs": [
    {
     "name": "stdout",
     "output_type": "stream",
     "text": [
      "Outliers Inférieur = -1.5\n",
      "Outliers Supérieur = 2.5\n"
     ]
    }
   ],
   "source": [
    "outliers_nb_pieces_inferieur = q1_nb_piece - (1.5 * iqr_nb_piece)\n",
    "outliers_nb_pieces_superieur = q3_nb_piece + (1.5 * iqr_nb_piece)\n",
    "\n",
    "print(f'Outliers Inférieur = {outliers_nb_pieces_inferieur}')\n",
    "print(f'Outliers Supérieur = {outliers_nb_pieces_superieur}')"
   ],
   "metadata": {
    "collapsed": false,
    "ExecuteTime": {
     "end_time": "2024-04-19T12:39:29.791773Z",
     "start_time": "2024-04-19T12:39:29.776581200Z"
    }
   },
   "id": "e06ead8bd18b4647"
  },
  {
   "cell_type": "markdown",
   "source": [
    "# COMPATAGE DES OUTLIERS"
   ],
   "metadata": {
    "collapsed": false
   },
   "id": "f1f68f48ab4f7282"
  },
  {
   "cell_type": "code",
   "execution_count": 24,
   "outputs": [
    {
     "name": "stdout",
     "output_type": "stream",
     "text": [
      "Nous aurions donc 1664 outliers.\n"
     ]
    }
   ],
   "source": [
    "nb_outliers_nb_piece = df.loc[(df['NombrePiecesPrincipales'] > outliers_nb_pieces_superieur) | (df['NombrePiecesPrincipales'] < outliers_nb_pieces_inferieur)].shape\n",
    "print(f'Nous aurions donc {nb_outliers_nb_piece[0]} outliers.')"
   ],
   "metadata": {
    "collapsed": false,
    "ExecuteTime": {
     "end_time": "2024-04-19T12:39:36.125176300Z",
     "start_time": "2024-04-19T12:39:36.103560600Z"
    }
   },
   "id": "dea3b2a37e21bed9"
  },
  {
   "cell_type": "markdown",
   "source": [
    "# STOCKAGE DES OUTLIERS DANS UN NOUVEAU DATAFRAME"
   ],
   "metadata": {
    "collapsed": false
   },
   "id": "43ca8c120fac6de4"
  },
  {
   "cell_type": "code",
   "execution_count": 25,
   "outputs": [],
   "source": [
    "outliers_nb_pieces = df.loc[(df['NombrePiecesPrincipales'] > outliers_nb_pieces_superieur) | (df['NombrePiecesPrincipales'] < outliers_nb_pieces_inferieur)]"
   ],
   "metadata": {
    "collapsed": false,
    "ExecuteTime": {
     "end_time": "2024-04-19T12:39:43.909611500Z",
     "start_time": "2024-04-19T12:39:43.881072900Z"
    }
   },
   "id": "eb2991dd409a6712"
  },
  {
   "cell_type": "markdown",
   "source": [
    "# CREATION D'UN DATAFRAME HORS OUTLIERS ET DOUBLONS D'OUTLIERS"
   ],
   "metadata": {
    "collapsed": false
   },
   "id": "33f85217b50bc1ab"
  },
  {
   "cell_type": "code",
   "execution_count": 26,
   "outputs": [],
   "source": [
    "# Concaténation des ID des outliers\n",
    "ids_outliers = pd.concat([outliers_surface_bati['ID'], outliers_surface_terrain['ID'], outliers_surface_carrez['ID'], outliers_nb_pieces['ID']])\n",
    "\n",
    "# Suppression des duplicatas\n",
    "ids_outliers = ids_outliers.drop_duplicates()\n",
    "\n",
    "# Filtrage de df pour exclure les outliers\n",
    "df_clean_with_nb_piece = df[~df['ID'].isin(ids_outliers)]"
   ],
   "metadata": {
    "collapsed": false,
    "ExecuteTime": {
     "end_time": "2024-04-19T12:39:46.139954100Z",
     "start_time": "2024-04-19T12:39:46.102648900Z"
    }
   },
   "id": "6e1d2bc47e995450"
  },
  {
   "cell_type": "markdown",
   "source": [
    "# CREATION D'UN CSV DEPUIS CE DATAFRAMES"
   ],
   "metadata": {
    "collapsed": false
   },
   "id": "f59ad575d6d9f7e4"
  },
  {
   "cell_type": "code",
   "execution_count": 27,
   "outputs": [],
   "source": [
    "df_clean_with_nb_piece.to_csv('../DATA/OUT/new_dataset_hors_outliers_surfaces_and_piece.csv', index=False)"
   ],
   "metadata": {
    "collapsed": false,
    "ExecuteTime": {
     "end_time": "2024-04-19T12:39:53.739455100Z",
     "start_time": "2024-04-19T12:39:52.838992Z"
    }
   },
   "id": "39884150aec9386f"
  }
 ],
 "metadata": {
  "kernelspec": {
   "display_name": "Python 3",
   "language": "python",
   "name": "python3"
  },
  "language_info": {
   "codemirror_mode": {
    "name": "ipython",
    "version": 2
   },
   "file_extension": ".py",
   "mimetype": "text/x-python",
   "name": "python",
   "nbconvert_exporter": "python",
   "pygments_lexer": "ipython2",
   "version": "2.7.6"
  }
 },
 "nbformat": 4,
 "nbformat_minor": 5
}
