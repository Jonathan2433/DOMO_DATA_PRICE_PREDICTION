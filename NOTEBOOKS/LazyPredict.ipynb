{
 "cells": [
  {
   "cell_type": "code",
   "execution_count": 1,
   "outputs": [],
   "source": [
    "from lazypredict.Supervised import LazyRegressor\n",
    "import pandas as pd\n",
    "from sklearn.model_selection import train_test_split, GridSearchCV\n",
    "from sklearn.preprocessing import RobustScaler, OneHotEncoder\n",
    "from sklearn.compose import ColumnTransformer\n",
    "from sklearn.pipeline import Pipeline\n",
    "from sklearn.impute import SimpleImputer\n",
    "from sklearn.ensemble import GradientBoostingRegressor"
   ],
   "metadata": {
    "collapsed": false,
    "ExecuteTime": {
     "end_time": "2024-04-29T19:35:30.674951800Z",
     "start_time": "2024-04-29T19:35:29.901377700Z"
    }
   },
   "id": "695fd3b5ae5fccdd"
  },
  {
   "cell_type": "code",
   "execution_count": 2,
   "outputs": [],
   "source": [
    "# Chargement des données sans en-tête\n",
    "data_path = './../DATA/IN/extract_gold_dvf_11_04_24_true_gold.csv'\n",
    "data = pd.read_csv(data_path, header=None, sep=';')\n",
    "\n",
    "# Préparation des données\n",
    "data.drop(data.columns[[6, 7, 8, 9, 10, 11, 12, 14, 15, 16, 17]], axis=1, inplace=True)\n",
    "data[1] = pd.to_datetime(data[1]).dt.year\n",
    "for col in [0, 2, 3, 4]:\n",
    "    data[col] = data[col].astype(str).str.replace(',', '.').astype(float)\n",
    "    if col in [3, 4]:\n",
    "        data[col].fillna(0, inplace=True)\n",
    "\n",
    "# Exclusion des outliers\n",
    "for col in [0, 2, 3, 4]:\n",
    "    q1 = data[col].quantile(0.25)\n",
    "    q3 = data[col].quantile(0.75)\n",
    "    iqr = q3 - q1\n",
    "    lower_bound = q1 - 1.5 * iqr\n",
    "    upper_bound = q3 + 1.5 * iqr\n",
    "    data = data[(data[col] >= lower_bound) & (data[col] <= upper_bound)]\n",
    "\n",
    "# Définition des caractéristiques\n",
    "numeric_features = [0, 1, 2, 3, 4]\n",
    "categorical_features = [5, 6]\n",
    "\n",
    "# Configuration du préprocesseur\n",
    "preprocessor = ColumnTransformer(\n",
    "    transformers=[\n",
    "        ('num', Pipeline(steps=[\n",
    "            ('imputer', SimpleImputer(strategy='median')),\n",
    "            ('scaler', RobustScaler())]), numeric_features),\n",
    "        ('cat', Pipeline(steps=[\n",
    "            ('imputer', SimpleImputer(strategy='constant', fill_value='missing')),\n",
    "            ('onehot', OneHotEncoder(handle_unknown='ignore'))]), categorical_features)])\n",
    "\n",
    "# Configuration du modèle avec pipeline\n",
    "pipeline = Pipeline(steps=[('preprocessor', preprocessor),\n",
    "                           ('regressor', GradientBoostingRegressor())])\n",
    "\n",
    "# Séparation des données\n",
    "X = data.drop(0, axis=1)\n",
    "y = data[0]\n",
    "X_train, X_test, y_train, y_test = train_test_split(X, y, test_size=0.2, random_state=42)"
   ],
   "metadata": {
    "collapsed": false,
    "ExecuteTime": {
     "end_time": "2024-04-29T19:35:31.382162Z",
     "start_time": "2024-04-29T19:35:30.682342500Z"
    }
   },
   "id": "6d46f85450846d8"
  },
  {
   "cell_type": "code",
   "execution_count": 3,
   "outputs": [],
   "source": [
    "reg = LazyRegressor(verbose=0,ignore_warnings=False, custom_metric=None )"
   ],
   "metadata": {
    "collapsed": false,
    "ExecuteTime": {
     "end_time": "2024-04-29T19:35:32.020480Z",
     "start_time": "2024-04-29T19:35:32.000398600Z"
    }
   },
   "id": "23d1c709c3ddcc9f"
  },
  {
   "cell_type": "code",
   "execution_count": 4,
   "outputs": [
    {
     "name": "stderr",
     "output_type": "stream",
     "text": [
      "100%|██████████| 42/42 [00:00<00:00, 1732.76it/s]"
     ]
    },
    {
     "name": "stdout",
     "output_type": "stream",
     "text": [
      "AdaBoostRegressor model failed to execute\n",
      "all features must be in [0, 6] or [-7, 0]\n",
      "BaggingRegressor model failed to execute\n",
      "all features must be in [0, 6] or [-7, 0]\n",
      "BayesianRidge model failed to execute\n",
      "all features must be in [0, 6] or [-7, 0]\n",
      "DecisionTreeRegressor model failed to execute\n",
      "all features must be in [0, 6] or [-7, 0]\n",
      "DummyRegressor model failed to execute\n",
      "all features must be in [0, 6] or [-7, 0]\n",
      "ElasticNet model failed to execute\n",
      "all features must be in [0, 6] or [-7, 0]\n",
      "ElasticNetCV model failed to execute\n",
      "all features must be in [0, 6] or [-7, 0]\n",
      "ExtraTreeRegressor model failed to execute\n",
      "all features must be in [0, 6] or [-7, 0]\n",
      "ExtraTreesRegressor model failed to execute\n",
      "all features must be in [0, 6] or [-7, 0]\n",
      "GammaRegressor model failed to execute\n",
      "all features must be in [0, 6] or [-7, 0]\n",
      "GaussianProcessRegressor model failed to execute\n",
      "all features must be in [0, 6] or [-7, 0]\n",
      "GradientBoostingRegressor model failed to execute\n",
      "all features must be in [0, 6] or [-7, 0]\n",
      "HistGradientBoostingRegressor model failed to execute\n",
      "all features must be in [0, 6] or [-7, 0]\n",
      "HuberRegressor model failed to execute\n",
      "all features must be in [0, 6] or [-7, 0]\n",
      "KNeighborsRegressor model failed to execute\n",
      "all features must be in [0, 6] or [-7, 0]\n",
      "KernelRidge model failed to execute\n",
      "all features must be in [0, 6] or [-7, 0]\n",
      "Lars model failed to execute\n",
      "all features must be in [0, 6] or [-7, 0]\n",
      "LarsCV model failed to execute\n",
      "all features must be in [0, 6] or [-7, 0]\n",
      "Lasso model failed to execute\n",
      "all features must be in [0, 6] or [-7, 0]\n",
      "LassoCV model failed to execute\n",
      "all features must be in [0, 6] or [-7, 0]\n",
      "LassoLars model failed to execute\n",
      "all features must be in [0, 6] or [-7, 0]\n",
      "LassoLarsCV model failed to execute\n",
      "all features must be in [0, 6] or [-7, 0]\n",
      "LassoLarsIC model failed to execute\n",
      "all features must be in [0, 6] or [-7, 0]\n",
      "LinearRegression model failed to execute\n",
      "all features must be in [0, 6] or [-7, 0]\n",
      "LinearSVR model failed to execute\n",
      "all features must be in [0, 6] or [-7, 0]\n",
      "MLPRegressor model failed to execute\n",
      "all features must be in [0, 6] or [-7, 0]\n",
      "NuSVR model failed to execute\n",
      "all features must be in [0, 6] or [-7, 0]\n",
      "OrthogonalMatchingPursuit model failed to execute\n",
      "all features must be in [0, 6] or [-7, 0]\n",
      "OrthogonalMatchingPursuitCV model failed to execute\n",
      "all features must be in [0, 6] or [-7, 0]\n",
      "PassiveAggressiveRegressor model failed to execute\n",
      "all features must be in [0, 6] or [-7, 0]\n",
      "PoissonRegressor model failed to execute\n",
      "all features must be in [0, 6] or [-7, 0]\n",
      "QuantileRegressor model failed to execute\n",
      "all features must be in [0, 6] or [-7, 0]\n",
      "RANSACRegressor model failed to execute\n",
      "all features must be in [0, 6] or [-7, 0]\n",
      "RandomForestRegressor model failed to execute\n",
      "all features must be in [0, 6] or [-7, 0]\n",
      "Ridge model failed to execute\n",
      "all features must be in [0, 6] or [-7, 0]\n",
      "RidgeCV model failed to execute\n",
      "all features must be in [0, 6] or [-7, 0]\n",
      "SGDRegressor model failed to execute\n",
      "all features must be in [0, 6] or [-7, 0]\n",
      "SVR model failed to execute\n",
      "all features must be in [0, 6] or [-7, 0]\n",
      "TransformedTargetRegressor model failed to execute\n",
      "all features must be in [0, 6] or [-7, 0]\n",
      "TweedieRegressor model failed to execute\n",
      "all features must be in [0, 6] or [-7, 0]\n",
      "XGBRegressor model failed to execute\n",
      "all features must be in [0, 6] or [-7, 0]\n",
      "LGBMRegressor model failed to execute\n",
      "all features must be in [0, 6] or [-7, 0]\n"
     ]
    },
    {
     "name": "stderr",
     "output_type": "stream",
     "text": [
      "\n"
     ]
    }
   ],
   "source": [
    "models,predictions = reg.fit(X_train, X_test, y_train, y_test)"
   ],
   "metadata": {
    "collapsed": false,
    "ExecuteTime": {
     "end_time": "2024-04-29T19:35:32.517472600Z",
     "start_time": "2024-04-29T19:35:32.466753700Z"
    }
   },
   "id": "80e8d04b239b224c"
  },
  {
   "cell_type": "code",
   "execution_count": 5,
   "outputs": [
    {
     "data": {
      "text/plain": "Empty DataFrame\nColumns: [Adjusted R-Squared, R-Squared, RMSE, Time Taken]\nIndex: []",
      "text/html": "<div>\n<style scoped>\n    .dataframe tbody tr th:only-of-type {\n        vertical-align: middle;\n    }\n\n    .dataframe tbody tr th {\n        vertical-align: top;\n    }\n\n    .dataframe thead th {\n        text-align: right;\n    }\n</style>\n<table border=\"1\" class=\"dataframe\">\n  <thead>\n    <tr style=\"text-align: right;\">\n      <th></th>\n      <th>Adjusted R-Squared</th>\n      <th>R-Squared</th>\n      <th>RMSE</th>\n      <th>Time Taken</th>\n    </tr>\n    <tr>\n      <th>Model</th>\n      <th></th>\n      <th></th>\n      <th></th>\n      <th></th>\n    </tr>\n  </thead>\n  <tbody>\n  </tbody>\n</table>\n</div>"
     },
     "execution_count": 5,
     "metadata": {},
     "output_type": "execute_result"
    }
   ],
   "source": [
    "models"
   ],
   "metadata": {
    "collapsed": false,
    "ExecuteTime": {
     "end_time": "2024-04-29T19:35:33.382340500Z",
     "start_time": "2024-04-29T19:35:33.363376200Z"
    }
   },
   "id": "3e1d5787934c9646"
  },
  {
   "cell_type": "code",
   "execution_count": null,
   "outputs": [
    {
     "name": "stderr",
     "output_type": "stream",
     "text": [
      " 26%|██▌       | 11/42 [09:10<38:48, 75.11s/it]  "
     ]
    },
    {
     "name": "stdout",
     "output_type": "stream",
     "text": [
      "GaussianProcessRegressor model failed to execute\n",
      "Unable to allocate 145. GiB for an array with shape (139692, 139692) and data type float64\n"
     ]
    },
    {
     "name": "stderr",
     "output_type": "stream",
     "text": [
      " 38%|███▊      | 16/42 [10:38<08:49, 20.35s/it]"
     ]
    },
    {
     "name": "stdout",
     "output_type": "stream",
     "text": [
      "KernelRidge model failed to execute\n",
      "Unable to allocate 145. GiB for an array with shape (139692, 139692) and data type float64\n"
     ]
    },
    {
     "name": "stderr",
     "output_type": "stream",
     "text": [
      " 62%|██████▏   | 26/42 [12:16<06:13, 23.37s/it]"
     ]
    }
   ],
   "source": [
    "import pandas as pd\n",
    "from sklearn.model_selection import train_test_split\n",
    "from sklearn.preprocessing import RobustScaler, OneHotEncoder\n",
    "from sklearn.compose import ColumnTransformer\n",
    "from sklearn.pipeline import Pipeline\n",
    "from sklearn.impute import SimpleImputer\n",
    "from sklearn.ensemble import GradientBoostingRegressor\n",
    "from lazypredict.Supervised import LazyRegressor\n",
    "import numpy as np\n",
    "import datetime\n",
    "import time\n",
    "\n",
    "# Début du comptage du temps\n",
    "start_time = time.time()\n",
    "\n",
    "# Chargement des données sans en-tête\n",
    "data_path = './../DATA/IN/extract_gold_dvf_11_04_24_true_gold.csv'\n",
    "data = pd.read_csv(data_path, header=None, sep=';')\n",
    "\n",
    "# Préparation des données\n",
    "data.drop(data.columns[[6, 7, 8, 9, 10, 11, 12, 14, 15, 16, 17]], axis=1, inplace=True)\n",
    "data[1] = pd.to_datetime(data[1]).dt.year\n",
    "for col in [0, 2, 3, 4]:\n",
    "    data[col] = data[col].astype(str).str.replace(',', '.').astype(float)\n",
    "\n",
    "# Définition des colonnes numériques et catégorielles par leurs indices\n",
    "numeric_features = [0, 1, 2, 3, 4]\n",
    "categorical_features = [5, 6]\n",
    "\n",
    "# Préprocesseur\n",
    "preprocessor = ColumnTransformer(\n",
    "    transformers=[\n",
    "        ('num', Pipeline(steps=[\n",
    "            ('imputer', SimpleImputer(strategy='median')),\n",
    "            ('scaler', RobustScaler())\n",
    "        ]), numeric_features),\n",
    "        ('cat', Pipeline(steps=[\n",
    "            ('imputer', SimpleImputer(strategy='constant', fill_value='missing')),\n",
    "            ('onehot', OneHotEncoder(handle_unknown='ignore', sparse_output=False))\n",
    "        ]), categorical_features)\n",
    "    ])\n",
    "\n",
    "# Application du prétraitement\n",
    "X = data.drop(0, axis=1)\n",
    "y = data[0]\n",
    "X_preprocessed = preprocessor.fit_transform(X)\n",
    "\n",
    "# Séparation des données transformées\n",
    "X_train, X_test, y_train, y_test = train_test_split(X_preprocessed, y, test_size=0.2, random_state=42)\n",
    "\n",
    "# Utilisation de LazyPredict pour trouver le meilleur modèle\n",
    "reg = LazyRegressor(verbose=0, ignore_warnings=False, custom_metric=None)\n",
    "models, predictions = reg.fit(X_train, X_test, y_train, y_test)\n",
    "\n",
    "models\n",
    "\n",
    "# Fin du comptage du temps\n",
    "end_time = time.time()\n",
    "training_duration_seconds = end_time - start_time\n",
    "minutes = int(training_duration_seconds // 60)\n",
    "seconds = int(training_duration_seconds % 60)\n",
    "training_duration_str = f\"{minutes} minutes and {seconds} seconds\"\n",
    "print(f\"Training Duration: {training_duration_str}\")\n"
   ],
   "metadata": {
    "collapsed": false,
    "is_executing": true,
    "ExecuteTime": {
     "start_time": "2024-04-29T19:44:37.968263700Z"
    }
   },
   "id": "f95ddba6464c7083"
  },
  {
   "cell_type": "code",
   "execution_count": null,
   "outputs": [],
   "source": [],
   "metadata": {
    "collapsed": false
   },
   "id": "1161492298936e86"
  }
 ],
 "metadata": {
  "kernelspec": {
   "display_name": "Python 3",
   "language": "python",
   "name": "python3"
  },
  "language_info": {
   "codemirror_mode": {
    "name": "ipython",
    "version": 2
   },
   "file_extension": ".py",
   "mimetype": "text/x-python",
   "name": "python",
   "nbconvert_exporter": "python",
   "pygments_lexer": "ipython2",
   "version": "2.7.6"
  }
 },
 "nbformat": 4,
 "nbformat_minor": 5
}
