{
 "cells": [
  {
   "cell_type": "markdown",
   "source": [
    "# IMPORT DES LIBRAIRIES"
   ],
   "metadata": {
    "collapsed": false
   },
   "id": "c7dfb25a3adb5a58"
  },
  {
   "cell_type": "code",
   "execution_count": 1,
   "id": "initial_id",
   "metadata": {
    "collapsed": true,
    "ExecuteTime": {
     "end_time": "2024-04-21T18:10:04.701211600Z",
     "start_time": "2024-04-21T18:10:04.266606900Z"
    }
   },
   "outputs": [],
   "source": [
    "import pandas as pd\n",
    "import numpy as np"
   ]
  },
  {
   "cell_type": "markdown",
   "source": [
    "# OPTIONS PANDAS "
   ],
   "metadata": {
    "collapsed": false
   },
   "id": "e35f89db3e87f3e5"
  },
  {
   "cell_type": "code",
   "execution_count": 2,
   "outputs": [],
   "source": [
    "pd.options.display.float_format = '{:.0f}'.format"
   ],
   "metadata": {
    "collapsed": false,
    "ExecuteTime": {
     "end_time": "2024-04-21T18:10:04.716841100Z",
     "start_time": "2024-04-21T18:10:04.706324700Z"
    }
   },
   "id": "fb6698c97cdd74ac"
  },
  {
   "cell_type": "markdown",
   "source": [
    "# OUVERTURE DE NOTRE DATASET"
   ],
   "metadata": {
    "collapsed": false
   },
   "id": "c6f9561c275b906d"
  },
  {
   "cell_type": "code",
   "execution_count": 3,
   "outputs": [],
   "source": [
    "from DataPreprocessor import DataPreprocessor\n",
    "import csv"
   ],
   "metadata": {
    "collapsed": false,
    "ExecuteTime": {
     "end_time": "2024-04-21T18:10:05.242386300Z",
     "start_time": "2024-04-21T18:10:04.718915100Z"
    }
   },
   "id": "88feb05e3283df83"
  },
  {
   "cell_type": "code",
   "execution_count": 4,
   "outputs": [],
   "source": [
    "with open('../DATA/IN/new_extract_gold_dvf.csv', 'r', encoding='utf-8') as file:\n",
    "    csv_reader = csv.reader(file, delimiter=';')\n",
    "\n",
    "    next(csv_reader)  # Skip the header row\n",
    "    data = list(csv_reader)\n",
    "\n",
    "data =  np.copy(data)"
   ],
   "metadata": {
    "collapsed": false,
    "ExecuteTime": {
     "end_time": "2024-04-21T18:10:05.756223300Z",
     "start_time": "2024-04-21T18:10:05.244924200Z"
    }
   },
   "id": "e4e810317afcee55"
  },
  {
   "cell_type": "code",
   "execution_count": 5,
   "outputs": [],
   "source": [
    "preprocessor = DataPreprocessor.DataPreprocessor()"
   ],
   "metadata": {
    "collapsed": false,
    "ExecuteTime": {
     "end_time": "2024-04-21T18:10:05.770000900Z",
     "start_time": "2024-04-21T18:10:05.760323600Z"
    }
   },
   "id": "d24789ddef67ec20"
  },
  {
   "cell_type": "code",
   "execution_count": 6,
   "outputs": [],
   "source": [
    "X = preprocessor._fill_na(data)"
   ],
   "metadata": {
    "collapsed": false,
    "ExecuteTime": {
     "end_time": "2024-04-21T18:10:06.608952400Z",
     "start_time": "2024-04-21T18:10:05.772574500Z"
    }
   },
   "id": "811a05d4e70ebac0"
  },
  {
   "cell_type": "code",
   "execution_count": 7,
   "outputs": [],
   "source": [
    "x_filtered = preprocessor._handle_outliers(X)"
   ],
   "metadata": {
    "collapsed": false,
    "ExecuteTime": {
     "end_time": "2024-04-21T18:10:06.917811900Z",
     "start_time": "2024-04-21T18:10:06.611002200Z"
    }
   },
   "id": "a9591483ce13c44b"
  },
  {
   "cell_type": "code",
   "execution_count": 8,
   "outputs": [
    {
     "data": {
      "text/plain": "array([['174619', '177000.0', '2021-01-08', ..., '1', '33320',\n        'Appartement'],\n       ['174620', '153000.0', '2021-01-08', ..., '1', '33800',\n        'Appartement'],\n       ['174621', '223170.0', '2021-01-08', ..., '1', '33127',\n        'Appartement'],\n       ...,\n       ['349230', '155000.0', '2023-05-02', ..., '0', '33830', 'Maison'],\n       ['349231', '111150.0', '2023-06-28', ..., '0', '33210', 'Maison'],\n       ['349232', '1072000.0', '2023-05-05', ..., '0', '33470', 'Maison']],\n      dtype='<U11')"
     },
     "execution_count": 8,
     "metadata": {},
     "output_type": "execute_result"
    }
   ],
   "source": [
    "x_filtered"
   ],
   "metadata": {
    "collapsed": false,
    "ExecuteTime": {
     "end_time": "2024-04-21T18:10:06.935312400Z",
     "start_time": "2024-04-21T18:10:06.920355600Z"
    }
   },
   "id": "c7208cfd96430f16"
  },
  {
   "cell_type": "code",
   "execution_count": 9,
   "outputs": [],
   "source": [
    "x_filtered = preprocessor._prepare_final_dataset(x_filtered)"
   ],
   "metadata": {
    "collapsed": false,
    "ExecuteTime": {
     "end_time": "2024-04-21T18:10:06.980328400Z",
     "start_time": "2024-04-21T18:10:06.937862300Z"
    }
   },
   "id": "bc331a207229f0a4"
  },
  {
   "cell_type": "code",
   "execution_count": 10,
   "outputs": [
    {
     "data": {
      "text/plain": "array([['174619', '177000.0', '0.0', ..., '1', '33320', 'Appartement'],\n       ['174620', '153000.0', '0.0', ..., '1', '33800', 'Appartement'],\n       ['174621', '223170.0', '0.0', ..., '1', '33127', 'Appartement'],\n       ...,\n       ['349230', '155000.0', '600.0', ..., '0', '33830', 'Maison'],\n       ['349231', '111150.0', '51.0', ..., '0', '33210', 'Maison'],\n       ['349232', '1072000.0', '0.0', ..., '0', '33470', 'Maison']],\n      dtype='<U11')"
     },
     "execution_count": 10,
     "metadata": {},
     "output_type": "execute_result"
    }
   ],
   "source": [
    "x_filtered"
   ],
   "metadata": {
    "collapsed": false,
    "ExecuteTime": {
     "end_time": "2024-04-21T18:10:06.994121200Z",
     "start_time": "2024-04-21T18:10:06.981346900Z"
    }
   },
   "id": "2b2e00b896496ab0"
  },
  {
   "cell_type": "code",
   "execution_count": 11,
   "outputs": [],
   "source": [
    "from BaselineFiter import BaselineFiter\n",
    "\n",
    "fiter = BaselineFiter.BaselineFiter()"
   ],
   "metadata": {
    "collapsed": false,
    "ExecuteTime": {
     "end_time": "2024-04-21T18:10:07.211467700Z",
     "start_time": "2024-04-21T18:10:06.997206200Z"
    }
   },
   "id": "95c956c639990d9e"
  },
  {
   "cell_type": "code",
   "execution_count": 12,
   "outputs": [
    {
     "ename": "MemoryError",
     "evalue": "Unable to allocate 68.7 GiB for an array with shape (123591, 4662) and data type <U32",
     "output_type": "error",
     "traceback": [
      "\u001B[1;31m---------------------------------------------------------------------------\u001B[0m",
      "\u001B[1;31mMemoryError\u001B[0m                               Traceback (most recent call last)",
      "Cell \u001B[1;32mIn[12], line 1\u001B[0m\n\u001B[1;32m----> 1\u001B[0m \u001B[43mfiter\u001B[49m\u001B[38;5;241;43m.\u001B[39;49m\u001B[43mfit\u001B[49m\u001B[43m(\u001B[49m\u001B[43mx_filtered\u001B[49m\u001B[43m)\u001B[49m\n",
      "File \u001B[1;32m~\\Documents\\0000000_YNOV\\0000_EXAMEN\\01_DOMODATA_ML\\BaselineFiter\\BaselineFiter.py:50\u001B[0m, in \u001B[0;36mBaselineFiter.fit\u001B[1;34m(self, X)\u001B[0m\n\u001B[0;32m     47\u001B[0m X \u001B[38;5;241m=\u001B[39m np\u001B[38;5;241m.\u001B[39mdelete(X, \u001B[38;5;241m1\u001B[39m, axis\u001B[38;5;241m=\u001B[39m\u001B[38;5;241m1\u001B[39m)  \u001B[38;5;66;03m# Supprimer la colonne 'y'\u001B[39;00m\n\u001B[0;32m     49\u001B[0m \u001B[38;5;66;03m# Appliquer l'encodage OneHot\u001B[39;00m\n\u001B[1;32m---> 50\u001B[0m X_encoded \u001B[38;5;241m=\u001B[39m \u001B[38;5;28;43mself\u001B[39;49m\u001B[38;5;241;43m.\u001B[39;49m\u001B[43m_hot_encode\u001B[49m\u001B[43m(\u001B[49m\u001B[43mX\u001B[49m\u001B[43m)\u001B[49m\n\u001B[0;32m     52\u001B[0m \u001B[38;5;66;03m# Séparation des données en ensembles d'entraînement et de test\u001B[39;00m\n\u001B[0;32m     53\u001B[0m X_train, X_test, y_train, y_test \u001B[38;5;241m=\u001B[39m train_test_split(X_encoded, y, test_size\u001B[38;5;241m=\u001B[39m\u001B[38;5;241m0.33\u001B[39m, random_state\u001B[38;5;241m=\u001B[39m\u001B[38;5;241m42\u001B[39m)\n",
      "File \u001B[1;32m~\\Documents\\0000000_YNOV\\0000_EXAMEN\\01_DOMODATA_ML\\BaselineFiter\\BaselineFiter.py:136\u001B[0m, in \u001B[0;36mBaselineFiter._hot_encode\u001B[1;34m(self, X, fit_encoder)\u001B[0m\n\u001B[0;32m    132\u001B[0m X \u001B[38;5;241m=\u001B[39m np\u001B[38;5;241m.\u001B[39mdelete(X, \u001B[38;5;241m2\u001B[39m, axis\u001B[38;5;241m=\u001B[39m\u001B[38;5;241m1\u001B[39m)  \u001B[38;5;66;03m# Supprime la colonne CP après la suppression de 'ValeurFonciere'\u001B[39;00m\n\u001B[0;32m    133\u001B[0m \u001B[38;5;66;03m# X = np.delete(X, 1, axis=1)  # Supprime 'ValeurFonciere'\u001B[39;00m\n\u001B[0;32m    134\u001B[0m \n\u001B[0;32m    135\u001B[0m \u001B[38;5;66;03m# Concaténation avec les colonnes encodées\u001B[39;00m\n\u001B[1;32m--> 136\u001B[0m X_processed \u001B[38;5;241m=\u001B[39m \u001B[43mnp\u001B[49m\u001B[38;5;241;43m.\u001B[39;49m\u001B[43mhstack\u001B[49m\u001B[43m(\u001B[49m\u001B[43m(\u001B[49m\u001B[43mX\u001B[49m\u001B[43m,\u001B[49m\u001B[43m \u001B[49m\u001B[43mcp_encoded\u001B[49m\u001B[43m)\u001B[49m\u001B[43m)\u001B[49m\n\u001B[0;32m    138\u001B[0m \u001B[38;5;28;01mreturn\u001B[39;00m X_processed\n",
      "File \u001B[1;32m~\\.conda\\envs\\EXPLO_DVF\\lib\\site-packages\\numpy\\core\\shape_base.py:359\u001B[0m, in \u001B[0;36mhstack\u001B[1;34m(tup, dtype, casting)\u001B[0m\n\u001B[0;32m    357\u001B[0m     \u001B[38;5;28;01mreturn\u001B[39;00m _nx\u001B[38;5;241m.\u001B[39mconcatenate(arrs, \u001B[38;5;241m0\u001B[39m, dtype\u001B[38;5;241m=\u001B[39mdtype, casting\u001B[38;5;241m=\u001B[39mcasting)\n\u001B[0;32m    358\u001B[0m \u001B[38;5;28;01melse\u001B[39;00m:\n\u001B[1;32m--> 359\u001B[0m     \u001B[38;5;28;01mreturn\u001B[39;00m \u001B[43m_nx\u001B[49m\u001B[38;5;241;43m.\u001B[39;49m\u001B[43mconcatenate\u001B[49m\u001B[43m(\u001B[49m\u001B[43marrs\u001B[49m\u001B[43m,\u001B[49m\u001B[43m \u001B[49m\u001B[38;5;241;43m1\u001B[39;49m\u001B[43m,\u001B[49m\u001B[43m \u001B[49m\u001B[43mdtype\u001B[49m\u001B[38;5;241;43m=\u001B[39;49m\u001B[43mdtype\u001B[49m\u001B[43m,\u001B[49m\u001B[43m \u001B[49m\u001B[43mcasting\u001B[49m\u001B[38;5;241;43m=\u001B[39;49m\u001B[43mcasting\u001B[49m\u001B[43m)\u001B[49m\n",
      "\u001B[1;31mMemoryError\u001B[0m: Unable to allocate 68.7 GiB for an array with shape (123591, 4662) and data type <U32"
     ]
    }
   ],
   "source": [
    "fiter.fit(x_filtered)"
   ],
   "metadata": {
    "collapsed": false,
    "ExecuteTime": {
     "end_time": "2024-04-21T18:10:08.383259700Z",
     "start_time": "2024-04-21T18:10:07.212982900Z"
    }
   },
   "id": "7d7654af560fb5bb"
  },
  {
   "cell_type": "code",
   "execution_count": null,
   "outputs": [],
   "source": [],
   "metadata": {
    "collapsed": false,
    "ExecuteTime": {
     "end_time": "2024-04-21T18:10:08.387837400Z",
     "start_time": "2024-04-21T18:10:08.385306100Z"
    }
   },
   "id": "1dc3af2ae2048068"
  }
 ],
 "metadata": {
  "kernelspec": {
   "display_name": "Python 3",
   "language": "python",
   "name": "python3"
  },
  "language_info": {
   "codemirror_mode": {
    "name": "ipython",
    "version": 2
   },
   "file_extension": ".py",
   "mimetype": "text/x-python",
   "name": "python",
   "nbconvert_exporter": "python",
   "pygments_lexer": "ipython2",
   "version": "2.7.6"
  }
 },
 "nbformat": 4,
 "nbformat_minor": 5
}
